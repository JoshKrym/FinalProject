{
 "cells": [
  {
   "cell_type": "markdown",
   "metadata": {},
   "source": [
    "Introduction: Our project is focused on identifying the neighborhoods with the least traffic in Pittsburgh. We belive the less traffic through a neihborhood, the better. My approach and data set, speed bumps, involved gathering this data to analyze traffic and vehicle density within these neighborhoods. The quiter, more attractive areas will contain a higher amount of speed bumps. This is due to less people commuting through the neighborhoods to work, more people out and about walking or riding bikes, etc. "
   ]
  },
  {
   "cell_type": "markdown",
   "metadata": {},
   "source": [
    "-----\n"
   ]
  },
  {
   "cell_type": "code",
   "execution_count": null,
   "metadata": {},
   "outputs": [],
   "source": [
    "import pandas as pd\n",
    "SH = pd.read_csv(\"Speed Humps.csv\")\n",
    "SH.head()\n",
    "SH[\"neighborhood\"].value_counts()"
   ]
  },
  {
   "cell_type": "markdown",
   "metadata": {},
   "source": [
    "I read in the Speed Humps csv file from the data that can be sourced in the Readme.md.\n",
    "I first looked at the first raw data for the first of code\n",
    "Second I looked at the head of the data, each new row represented a speedbump and then in that row I counted the number of neighborhoods that were in the row."
   ]
  },
  {
   "cell_type": "code",
   "execution_count": 7,
   "metadata": {},
   "outputs": [
    {
     "data": {
      "image/png": "[encoded data removed]",
      "text/plain": [
       "<Figure size 432x288 with 1 Axes>"
      ]
     },
     "metadata": {
      "needs_background": "light"
     },
     "output_type": "display_data"
    }
   ],
   "source": [
    "%matplotlib inline\n",
    "import matplotlib.pyplot as graph\n",
    "\n",
    "\n",
    "x = ['Squirrel Hill South', 'Carrick', 'Polish Hill', 'North Oakland', 'Upper Hill', 'Brookline', 'Homewood South', 'South Side Slopes', 'Perry North', 'Garfield', 'Squirrel Hill North', 'South Side Flats', 'Mount Washington', 'Bloomfield', 'Highland Park', 'Central Oakland', 'Stanton Heights', 'Overbrook']\n",
    "y = [18, 9, 6, 6, 4, 4, 4, 4, 4, 3, 3, 3, 3, 3, 2, 1, 1, 1]\n",
    "\n",
    "\n",
    "graph.bar(x, y)\n",
    "graph.xlabel('neighborhoods')\n",
    "graph.ylabel('# of speed bumps')\n",
    "graph.title('speed bumps')\n",
    "graph.show()"
   ]
  },
  {
   "cell_type": "markdown",
   "metadata": {},
   "source": [
    "Then I used the Matplotlib library to plot the data. I needed a graph varaible and then I input the data and displyayed it using a bar graph."
   ]
  },
  {
   "cell_type": "markdown",
   "metadata": {},
   "source": [
    "-----------------------------\n",
    "As you can see the data suggests that there are the most speedbumps in Squirrel Hill South followed by Carrik, and Polish Hill"
   ]
  },
  {
   "cell_type": "markdown",
   "metadata": {},
   "source": [
    "The trafic number of speed bumps in Pittsburgh is a metric that I am using to rate the bestness of neighborhoods in the city. This may seem like an unusual metric, but it is actually quite logical. The more speed bumps there are in a neighborhood, the slower the traffic tends to be, and the safer the streets are for pedestrians and cyclists. This is particularly important in residential areas, where families and children may be walking or playing outside. For example, I live in North Oakland close to the a preschool and the traffic that paseses by a child pedestrian crosswalk is surrounded by stop signs and often patrolled by a police officer to insure safety. Based on this metric, I am putting Squirrel Hill South as the winner in this category. Of course there are other factors we will/have analyzed to identify areas with the lowest average traffic density, but with the number of speed bumps, cars in this area will be slower and fewer. Out of these neighborhoods, squirrel hill also happens to be my favorite. "
   ]
  }
 ],
 "metadata": {
  "kernelspec": {
   "display_name": "Python 3",
   "language": "python",
   "name": "python3"
  },
  "language_info": {
   "codemirror_mode": {
    "name": "ipython",
    "version": 3
   },
   "file_extension": ".py",
   "mimetype": "text/x-python",
   "name": "python",
   "nbconvert_exporter": "python",
   "pygments_lexer": "ipython3",
   "version": "3.8.3"
  }
 },
 "nbformat": 4,
 "nbformat_minor": 4
}
