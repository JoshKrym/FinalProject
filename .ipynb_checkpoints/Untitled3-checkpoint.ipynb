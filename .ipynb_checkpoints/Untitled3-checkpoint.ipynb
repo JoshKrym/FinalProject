{
 "cells": [
  {
   "cell_type": "markdown",
   "metadata": {},
   "source": [
    "Team Name: The Boys"
   ]
  },
  {
   "cell_type": "markdown",
   "metadata": {},
   "source": [
    "Bestness: Which neighborhood seems to be the best by Traffic\n",
    "We are using the data sets:\n",
    "1. City of Pittsburgh Traffic Count\n",
    "2. City Traffic Signs\n",
    "3. Speed Humps\n",
    "These are measurring the locations with the most foreclosures, the locations with the most 211 service requests, as well as the location with the most arrests"
   ]
  },
  {
   "cell_type": "code",
   "execution_count": 140,
   "metadata": {},
   "outputs": [
    {
     "data": {
      "text/html": [
       "<div>\n",
       "<style scoped>\n",
       "    .dataframe tbody tr th:only-of-type {\n",
       "        vertical-align: middle;\n",
       "    }\n",
       "\n",
       "    .dataframe tbody tr th {\n",
       "        vertical-align: top;\n",
       "    }\n",
       "\n",
       "    .dataframe thead th {\n",
       "        text-align: right;\n",
       "    }\n",
       "</style>\n",
       "<table border=\"1\" class=\"dataframe\">\n",
       "  <thead>\n",
       "    <tr style=\"text-align: right;\">\n",
       "      <th></th>\n",
       "      <th>contact_date</th>\n",
       "      <th>gender</th>\n",
       "      <th>age_range</th>\n",
       "      <th>zip_code</th>\n",
       "      <th>county</th>\n",
       "      <th>state</th>\n",
       "      <th>needs_category</th>\n",
       "      <th>needs_code</th>\n",
       "      <th>level_1_classification</th>\n",
       "      <th>level_2_classification</th>\n",
       "      <th>needs_met</th>\n",
       "    </tr>\n",
       "  </thead>\n",
       "  <tbody>\n",
       "    <tr>\n",
       "      <th>0</th>\n",
       "      <td>2020-01-01</td>\n",
       "      <td>NaN</td>\n",
       "      <td>NaN</td>\n",
       "      <td>15212</td>\n",
       "      <td>Allegheny County</td>\n",
       "      <td>Pennsylvania</td>\n",
       "      <td>Food Pantries</td>\n",
       "      <td>BD-1800.2000</td>\n",
       "      <td>Basic Needs</td>\n",
       "      <td>Food</td>\n",
       "      <td>t</td>\n",
       "    </tr>\n",
       "    <tr>\n",
       "      <th>1</th>\n",
       "      <td>2020-01-01</td>\n",
       "      <td>F</td>\n",
       "      <td>65 and over</td>\n",
       "      <td>15221</td>\n",
       "      <td>Allegheny County</td>\n",
       "      <td>Pennsylvania</td>\n",
       "      <td>Food Pantries</td>\n",
       "      <td>BD-1800.2000</td>\n",
       "      <td>Basic Needs</td>\n",
       "      <td>Food</td>\n",
       "      <td>t</td>\n",
       "    </tr>\n",
       "    <tr>\n",
       "      <th>2</th>\n",
       "      <td>2020-01-01</td>\n",
       "      <td>F</td>\n",
       "      <td>NaN</td>\n",
       "      <td>15226</td>\n",
       "      <td>Allegheny County</td>\n",
       "      <td>Pennsylvania</td>\n",
       "      <td>Food Pantries</td>\n",
       "      <td>BD-1800.2000</td>\n",
       "      <td>Basic Needs</td>\n",
       "      <td>Food</td>\n",
       "      <td>t</td>\n",
       "    </tr>\n",
       "    <tr>\n",
       "      <th>3</th>\n",
       "      <td>2020-01-01</td>\n",
       "      <td>M</td>\n",
       "      <td>25 to 44</td>\n",
       "      <td>15132</td>\n",
       "      <td>Allegheny County</td>\n",
       "      <td>Pennsylvania</td>\n",
       "      <td>Soup Kitchens</td>\n",
       "      <td>BD-5000.8300</td>\n",
       "      <td>Basic Needs</td>\n",
       "      <td>Food</td>\n",
       "      <td>t</td>\n",
       "    </tr>\n",
       "    <tr>\n",
       "      <th>4</th>\n",
       "      <td>2020-01-01</td>\n",
       "      <td>F</td>\n",
       "      <td>25 to 44</td>\n",
       "      <td>15221</td>\n",
       "      <td>Allegheny County</td>\n",
       "      <td>Pennsylvania</td>\n",
       "      <td>Soup Kitchens</td>\n",
       "      <td>BD-5000.8300</td>\n",
       "      <td>Basic Needs</td>\n",
       "      <td>Food</td>\n",
       "      <td>t</td>\n",
       "    </tr>\n",
       "  </tbody>\n",
       "</table>\n",
       "</div>"
      ],
      "text/plain": [
       "  contact_date gender    age_range zip_code            county         state  \\\n",
       "0   2020-01-01    NaN          NaN    15212  Allegheny County  Pennsylvania   \n",
       "1   2020-01-01      F  65 and over    15221  Allegheny County  Pennsylvania   \n",
       "2   2020-01-01      F          NaN    15226  Allegheny County  Pennsylvania   \n",
       "3   2020-01-01      M     25 to 44    15132  Allegheny County  Pennsylvania   \n",
       "4   2020-01-01      F     25 to 44    15221  Allegheny County  Pennsylvania   \n",
       "\n",
       "  needs_category    needs_code level_1_classification level_2_classification  \\\n",
       "0  Food Pantries  BD-1800.2000            Basic Needs                   Food   \n",
       "1  Food Pantries  BD-1800.2000            Basic Needs                   Food   \n",
       "2  Food Pantries  BD-1800.2000            Basic Needs                   Food   \n",
       "3  Soup Kitchens  BD-5000.8300            Basic Needs                   Food   \n",
       "4  Soup Kitchens  BD-5000.8300            Basic Needs                   Food   \n",
       "\n",
       "  needs_met  \n",
       "0         t  \n",
       "1         t  \n",
       "2         t  \n",
       "3         t  \n",
       "4         t  "
      ]
     },
     "execution_count": 140,
     "metadata": {},
     "output_type": "execute_result"
    }
   ],
   "source": [
    "# load pandas\n",
    "import pandas as pd\n",
    "import numpy as np\n",
    "\n",
    "# load data\n",
    "SR = pd.read_csv(\"211 Service Requests.csv\", dtype={'zip_code':'string'})\n",
    "SR.head()\n",
    "#SR[\"zip_code\"]\n",
    "#SR[\"zip_code\"].value_counts()"
   ]
  },
  {
   "cell_type": "code",
   "execution_count": 141,
   "metadata": {},
   "outputs": [
    {
     "data": {
      "text/plain": [
       "Pittsburgh             8208\n",
       "Penn Hills Township    2739\n",
       "Monroeville Boro        848\n",
       "West Mifflin Boro       824\n",
       "City of McKeesport      731\n",
       "                       ... \n",
       "Thornburg Boro            7\n",
       "Trafford Boro             7\n",
       "Ben Avon Hts. Boro        5\n",
       "City of Duquesnt          2\n",
       "Haysville Boro            1\n",
       "Name: municipality, Length: 131, dtype: int64"
      ]
     },
     "execution_count": 141,
     "metadata": {},
     "output_type": "execute_result"
    }
   ],
   "source": [
    "ACFR = pd.read_csv(\"Allegheny County Mortgage Foreclosure Records.csv\")\n",
    "ACFR.head()\n",
    "ACFR[\"municipality\"].value_counts()"
   ]
  },
  {
   "cell_type": "code",
   "execution_count": 5,
   "metadata": {},
   "outputs": [
    {
     "data": {
      "text/plain": [
       "Central Business District    3783\n",
       "South Side Flats             3186\n",
       "Carrick                      2198\n",
       "East Allegheny               2012\n",
       "Homewood South               1941\n",
       "                             ... \n",
       "Ridgemont                      35\n",
       "Central Northside              23\n",
       "Mt. Oliver Boro                18\n",
       "Troy Hill-Herrs Island          6\n",
       "Mt. Oliver Neighborhood         2\n",
       "Name: INCIDENTNEIGHBORHOOD, Length: 98, dtype: int64"
      ]
     },
     "execution_count": 5,
     "metadata": {},
     "output_type": "execute_result"
    }
   ],
   "source": [
    "PPAD = pd.read_csv(\"Pittsburgh Police Arrest Data - Arrests.csv\")\n",
    "PPAD.head()\n",
    "PPAD[\"INCIDENTNEIGHBORHOOD\"].value_counts()"
   ]
  },
  {
   "cell_type": "code",
   "execution_count": 93,
   "metadata": {},
   "outputs": [
    {
     "data": {
      "text/plain": [
       "neighborhood\n",
       "Allegheny Center    0.121233\n",
       "Allegheny West      0.024236\n",
       "Arlington           0.116126\n",
       "Beechview           0.072065\n",
       "Beltzhoover         0.080127\n",
       "Name: average_daily_car_traffic, dtype: float64"
      ]
     },
     "execution_count": 93,
     "metadata": {},
     "output_type": "execute_result"
    }
   ],
   "source": [
    "TC = pd.read_csv(\"City of Pittsburgh Traffic Count.csv\")\n",
    "TC.head()\n",
    "TCa = TC[(TC[\"speed_limit\"]<30) | (TC[\"speed_limit\"].isnull()) & ~(TC['average_daily_car_traffic'].isnull())]\n",
    "#TCa = TC[TC[\"speed_limit\"]<35]\n",
    "#TCa.head()\n",
    "TCb = TCa.groupby([\"neighborhood\"])['average_daily_car_traffic'].mean()\n",
    "macs = TCb.max()\n",
    "TCbM = TCb.divide(macs).mul(0.85)\n",
    "TCbM.head()"
   ]
  },
  {
   "cell_type": "code",
   "execution_count": null,
   "metadata": {},
   "outputs": [],
   "source": []
  },
  {
   "cell_type": "code",
   "execution_count": null,
   "metadata": {},
   "outputs": [],
   "source": []
  },
  {
   "cell_type": "code",
   "execution_count": 105,
   "metadata": {},
   "outputs": [
    {
     "data": {
      "text/plain": [
       "South Side Flats             0.100000\n",
       "Bloomfield                   0.098775\n",
       "Central Business District    0.095071\n",
       "Shadyside                    0.091776\n",
       "Squirrel Hill South          0.089352\n",
       "Name: neighborhood, dtype: float64"
      ]
     },
     "execution_count": 105,
     "metadata": {},
     "output_type": "execute_result"
    }
   ],
   "source": [
    "TS = pd.read_csv(\"City Traffic Signs.csv\")\n",
    "TS.head()\n",
    "TS[\"neighborhood\"]\n",
    "c = TS[\"neighborhood\"].value_counts()\n",
    "TSmacs = c.max()\n",
    "TSF = c.divide(TSmacs).mul(0.1)\n",
    "TSF.head()\n",
    "TSF.columns = [\"neighborhood\", \"values\"]\n",
    "TSF.head()"
   ]
  },
  {
   "cell_type": "code",
   "execution_count": 136,
   "metadata": {},
   "outputs": [
    {
     "data": {
      "text/plain": [
       "Squirrel Hill South    0.050000\n",
       "Carrick                0.025000\n",
       "Polish Hill            0.016667\n",
       "North Oakland          0.016667\n",
       "Upper Hill             0.011111\n",
       "Brookline              0.011111\n",
       "Homewood South         0.011111\n",
       "South Side Slopes      0.011111\n",
       "Perry North            0.011111\n",
       "Garfield               0.008333\n",
       "Squirrel Hill North    0.008333\n",
       "South Side Flats       0.008333\n",
       "Mount Washington       0.008333\n",
       "Bloomfield             0.008333\n",
       "Highland Park          0.005556\n",
       "Central Oakland        0.002778\n",
       "Stanton Heights        0.002778\n",
       "Overbrook              0.002778\n",
       "Name: neighborhood, dtype: float64"
      ]
     },
     "execution_count": 136,
     "metadata": {},
     "output_type": "execute_result"
    }
   ],
   "source": [
    "SH = pd.read_csv(\"Speed Humps.csv\")\n",
    "SH.head()\n",
    "n = SH[\"neighborhood\"].value_counts()\n",
    "SHmacs = n.max()\n",
    "SHF = n.divide(SHmacs).mul(0.05)\n",
    "#SHF.columns = [\"neighborhood\", \"values\"]\n",
    "SHF.head()\n",
    "SHF.iloc[:,]\n",
    "#n.mul(5)"
   ]
  },
  {
   "cell_type": "markdown",
   "metadata": {},
   "source": []
  },
  {
   "cell_type": "code",
   "execution_count": 139,
   "metadata": {},
   "outputs": [
    {
     "ename": "TypeError",
     "evalue": "combine() missing 1 required positional argument: 'func'",
     "output_type": "error",
     "traceback": [
      "\u001b[0;31m---------------------------------------------------------------------------\u001b[0m",
      "\u001b[0;31mTypeError\u001b[0m                                 Traceback (most recent call last)",
      "\u001b[0;32m<ipython-input-139-fae8f2fb2af3>\u001b[0m in \u001b[0;36m<module>\u001b[0;34m\u001b[0m\n\u001b[1;32m      1\u001b[0m \u001b[0;31m#pd.merge(TCbM, TSF, on=0)\u001b[0m\u001b[0;34m\u001b[0m\u001b[0;34m\u001b[0m\u001b[0;34m\u001b[0m\u001b[0m\n\u001b[0;32m----> 2\u001b[0;31m \u001b[0mTCbM\u001b[0m\u001b[0;34m.\u001b[0m\u001b[0mcombine\u001b[0m\u001b[0;34m(\u001b[0m\u001b[0mTSF\u001b[0m\u001b[0;34m)\u001b[0m\u001b[0;34m\u001b[0m\u001b[0;34m\u001b[0m\u001b[0m\n\u001b[0m",
      "\u001b[0;31mTypeError\u001b[0m: combine() missing 1 required positional argument: 'func'"
     ]
    }
   ],
   "source": [
    "#pd.merge(TCbM, TSF, on=0)\n",
    "TCbM.combine(TSF)"
   ]
  },
  {
   "cell_type": "code",
   "execution_count": null,
   "metadata": {},
   "outputs": [],
   "source": []
  }
 ],
 "metadata": {
  "kernelspec": {
   "display_name": "Python 3",
   "language": "python",
   "name": "python3"
  },
  "language_info": {
   "codemirror_mode": {
    "name": "ipython",
    "version": 3
   },
   "file_extension": ".py",
   "mimetype": "text/x-python",
   "name": "python",
   "nbconvert_exporter": "python",
   "pygments_lexer": "ipython3",
   "version": "3.8.3"
  }
 },
 "nbformat": 4,
 "nbformat_minor": 4
}
