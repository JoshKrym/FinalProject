{
 "cells": [
  {
   "cell_type": "code",
   "execution_count": 6,
   "metadata": {},
   "outputs": [
    {
     "data": {
      "text/plain": [
       "South Side Flats             3672\n",
       "Bloomfield                   3627\n",
       "Central Business District    3491\n",
       "Shadyside                    3370\n",
       "Squirrel Hill South          3281\n",
       "                             ... \n",
       "Ridgemont                      62\n",
       "Chartiers City                 44\n",
       "Glen Hazel                     38\n",
       "Arlington Heights              21\n",
       "Mount Oliver Borough           17\n",
       "Name: neighborhood, Length: 91, dtype: int64"
      ]
     },
     "execution_count": 6,
     "metadata": {},
     "output_type": "execute_result"
    }
   ],
   "source": [
    "import pandas as pd\n",
    "import numpy as np\n",
    "TS = pd.read_csv(\"City Traffic Signs.csv\")\n",
    "TS.head()\n",
    "TS[\"neighborhood\"]\n",
    "c = TS[\"neighborhood\"].value_counts()\n",
    "c\n",
    "#TSmacs = c.max()\n",
    "#TSF = c.divide(TSmacs).mul(0.1)\n",
    "#TSF.head()\n",
    "#TSF.columns = [\"neighborhood\", \"values\"]\n",
    "#TSF.head()"
   ]
  },
  {
   "cell_type": "markdown",
   "metadata": {},
   "source": [
    "Introduction: The project is about the occurance percentage of traffic signs in every district in Pittsburgh. We calcualte the quantity of traffic signs in each district, and divide it by maximum quantity of traffic sign. Finally, we multiply each value by 0.1 to calculate the percentage of occurance of traffic signs in each district in Pittsburgh.\n",
    "The Metric: We set the occurance rate of traffic signs in each district in Pittsburgh as the metric. We are using the data about each traffic signs in each district in the \"City Traffic Sign\" table. And we measure occurance times of traffic signs in each district and the percentage of it by dividing maximum quantity of traffic sign in one district.\n",
    "The Best Neighborhood: The South Side Flats is the best neighborhood. From the calculation above, we find that the South Side Flats district has the largest percentage of occurance of traffic signs among all regions. Due to its the highest percentage of occurance of traffic signs, the South Side Flats is much safer than other region.The more traffic signs there are, the much more carefully and cautiously drivers will be. The speed of their cars would be slower by the traffic signs as the reminder. For example, if there are many sidewalks and stop signs in this region, drivers need to make their traffic slow down and stop frequently to check pedestrians' safe, even if there will be many traffics. Thus, the risk of being hurt for pedestrains will definitely decreases. For South Side Flats, it has 3672 traffic signs; it is deservedly the safest area.\n",
    "Conclusion:."
   ]
  }
 ],
 "metadata": {
  "kernelspec": {
   "display_name": "Python 3",
   "language": "python",
   "name": "python3"
  },
  "language_info": {
   "codemirror_mode": {
    "name": "ipython",
    "version": 3
   },
   "file_extension": ".py",
   "mimetype": "text/x-python",
   "name": "python",
   "nbconvert_exporter": "python",
   "pygments_lexer": "ipython3",
   "version": "3.8.3"
  }
 },
 "nbformat": 4,
 "nbformat_minor": 4
}
