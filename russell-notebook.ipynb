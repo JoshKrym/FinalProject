{
 "cells": [
  {
   "cell_type": "markdown",
   "metadata": {},
   "source": [
    "Introduction: Our project is focused on identifying the neighborhoods with the least traffic in Pittsburgh. We belive the less traffic through a neihborhood, the better. My approach and data set, speed bumps, involved gathering this data to analyze traffic and vehicle density within these neighborhoods. The quiter, more attractive areas will contain a higher amount of speed bumps. This is due to less people commuting through the neighborhoods to work, more people out and about walking or riding bikes, etc. "
   ]
  },
  {
   "cell_type": "markdown",
   "metadata": {},
   "source": [
    "-----\n"
   ]
  },
  {
   "cell_type": "code",
   "execution_count": 5,
   "metadata": {},
   "outputs": [
    {
     "data": {
      "text/plain": [
       "Squirrel Hill South    18\n",
       "Carrick                 9\n",
       "Polish Hill             6\n",
       "North Oakland           6\n",
       "Upper Hill              4\n",
       "Brookline               4\n",
       "Homewood South          4\n",
       "South Side Slopes       4\n",
       "Perry North             4\n",
       "Garfield                3\n",
       "Squirrel Hill North     3\n",
       "South Side Flats        3\n",
       "Mount Washington        3\n",
       "Bloomfield              3\n",
       "Highland Park           2\n",
       "Central Oakland         1\n",
       "Stanton Heights         1\n",
       "Overbrook               1\n",
       "Name: neighborhood, dtype: int64"
      ]
     },
     "execution_count": 5,
     "metadata": {},
     "output_type": "execute_result"
    }
   ],
   "source": [
    "import pandas as pd\n",
    "SH = pd.read_csv(\"Speed Humps.csv\")\n",
    "SH.head()\n",
    "SH[\"neighborhood\"].value_counts()"
   ]
  },
  {
   "cell_type": "markdown",
   "metadata": {},
   "source": [
    "-----------------------------\n",
    "As you can see the data suggests that there are the most speedbumps in Squirrel Hill South followed by Carrik, and Polish Hill"
   ]
  },
  {
   "cell_type": "markdown",
   "metadata": {},
   "source": [
    "The trafic number of speed bumps in Pittsburgh is a metric that I am using to rate the bestness of neighborhoods in the city. This may seem like an unusual metric, but it is actually quite logical. The more speed bumps there are in a neighborhood, the slower the traffic tends to be, and the safer the streets are for pedestrians and cyclists. This is particularly important in residential areas, where families and children may be walking or playing outside. For example, I live in North Oakland close to the a preschool and the traffic that paseses by a child pedestrian crosswalk is surrounded by stop signs and often patrolled by a police officer to insure safety. Based on this metric, I am putting Squirrel Hill South as the winner in this category. Of course there are other factors we will/have analyzed to identify areas with the lowest average traffic density, but with the number of speed bumps, cars in this area will be slower and fewer. Out of these neighborhoods, squirrel hill also happens to be my favorite. "
   ]
  },
  {
   "cell_type": "code",
   "execution_count": null,
   "metadata": {},
   "outputs": [],
   "source": [
    "    "
   ]
  },
  {
   "cell_type": "markdown",
   "metadata": {},
   "source": []
  },
  {
   "cell_type": "code",
   "execution_count": null,
   "metadata": {},
   "outputs": [],
   "source": []
  }
 ],
 "metadata": {
  "kernelspec": {
   "display_name": "Python 3",
   "language": "python",
   "name": "python3"
  },
  "language_info": {
   "codemirror_mode": {
    "name": "ipython",
    "version": 3
   },
   "file_extension": ".py",
   "mimetype": "text/x-python",
   "name": "python",
   "nbconvert_exporter": "python",
   "pygments_lexer": "ipython3",
   "version": "3.8.3"
  }
 },
 "nbformat": 4,
 "nbformat_minor": 4
}
