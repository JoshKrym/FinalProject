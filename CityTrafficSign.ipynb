{
 "cells": [
  {
   "cell_type": "code",
   "execution_count": 6,
   "metadata": {},
   "outputs": [
    {
     "data": {
      "text/plain": [
       "<matplotlib.axes._subplots.AxesSubplot at 0x7fb83b345160>"
      ]
     },
     "execution_count": 6,
     "metadata": {},
     "output_type": "execute_result"
    },
    {
     "data": {
      "image/png": "[encoded data removed]",
      "text/plain": [
       "<Figure size 432x288 with 1 Axes>"
      ]
     },
     "metadata": {
      "needs_background": "light"
     },
     "output_type": "display_data"
    }
   ],
   "source": [
    "import pandas as pd\n",
    "import numpy as np\n",
    "TS = pd.read_csv(\"City Traffic Signs.csv\")\n",
    "TS.head()\n",
    "TS[\"neighborhood\"]\n",
    "c = TS[\"neighborhood\"].value_counts()\n",
    "c.plot()"
   ]
  },
  {
   "cell_type": "code",
   "execution_count": 7,
   "metadata": {},
   "outputs": [
    {
     "data": {
      "text/plain": [
       "South Side Flats             3672\n",
       "Bloomfield                   3627\n",
       "Central Business District    3491\n",
       "Shadyside                    3370\n",
       "Squirrel Hill South          3281\n",
       "                             ... \n",
       "Ridgemont                      62\n",
       "Chartiers City                 44\n",
       "Glen Hazel                     38\n",
       "Arlington Heights              21\n",
       "Mount Oliver Borough           17\n",
       "Name: neighborhood, Length: 91, dtype: int64"
      ]
     },
     "execution_count": 7,
     "metadata": {},
     "output_type": "execute_result"
    }
   ],
   "source": [
    "c"
   ]
  },
  {
   "cell_type": "markdown",
   "metadata": {},
   "source": [
    "Introduction: The project is about whether one neighborhood is good or bad depends on the traffic quality in one neighborhood. And my submetric of the project is about the relationship between the quantity of traffic signs in each neighborhood in Pittsburgh and the quality of traffic in one neighborhood. In our opinions, the more traffic signs there are in one neighborhood, the better traffic quality in one neighborhood will be. Thus, we find the data about all traffic signs in each region in Pittsburgh city.  \n",
    "\n",
    "Code explanation: Firstly, I read through file into jupyter notebook. Secondly, I choose only \"neighborhood\" column among all columns and count it number by. Thirdly, I create a graph; set its size with 20 width for x-axis and 10 length for y-axis and make its type bar and. Finally, I label \"Neighborhood\" to x-axis,\"Count\" to y-axis and \"Traffic Signs by Neighborhood\" to graph title.\n",
    "\n",
    "Dataset explanation: We are using the data about each traffic signs in each district in the \"City Traffic Sign\" table. The data in this table is about the information of each traffic signs in Pittsburgh City, including its ID, description, name, neighborhood, longitude and so on.\n",
    "\n",
    "The Metric: We set the number of traffic signs in each neighborhood in Pittsburgh as the metric.  And we measure the number of traffic signs in each neighborhood and the comparision between each of them to find the biggest value.\n",
    "\n",
    "The Best Neighborhood: The South Side Flats is the best neighborhood. From the calculation above, we find that the South Side Flats district has the most traffic signs among all regions. Due to its most traffic signs, the South Side Flats is much safer than other neighborhood.The more traffic signs there are, the much more carefully and cautiously drivers will be. The speed of their cars would be slower by the traffic signs as the reminder. For example, if there are many sidewalks and stop signs in this region, drivers need to make their traffic slow down and stop frequently to check pedestrians' safe, even if there will be many traffics. Thus, the risk of being hurt for pedestrains will definitely decreases. For South Side Flats, it has 3672 traffic signs; it is deservedly the safest neighborhood. \n",
    "\n",
    "Conclusion: From the data and plot above, we find that South Side Flats is the region with the most traffic signs. Above all, the South Side Flats is the best neighborhood."
   ]
  }
 ],
 "metadata": {
  "kernelspec": {
   "display_name": "Python 3",
   "language": "python",
   "name": "python3"
  },
  "language_info": {
   "codemirror_mode": {
    "name": "ipython",
    "version": 3
   },
   "file_extension": ".py",
   "mimetype": "text/x-python",
   "name": "python",
   "nbconvert_exporter": "python",
   "pygments_lexer": "ipython3",
   "version": "3.8.3"
  }
 },
 "nbformat": 4,
 "nbformat_minor": 4
}
